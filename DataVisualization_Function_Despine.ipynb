{
 "cells": [
  {
   "cell_type": "code",
   "execution_count": null,
   "metadata": {
    "collapsed": true
   },
   "outputs": [],
   "source": [
    "#From Mastering Python Data Analysis, p. 176\n",
    "\n",
    "\"\"\"Removes the right and top axis in a plot or a grid of plots. Inspired by equivalent function in Seaborn.\"\"\"\n",
    "\n",
    "def despine(axs): #takes plot.gca() which is 'get current axis'\n",
    "    # to be able to handle subplot grids\n",
    "    # it assumes the input is a list of \n",
    "    # axes instances, if it is not a list, \n",
    "    # it puts it in one\n",
    "    if type(axs) != type([]):\n",
    "        axs = [axs]\n",
    "    for ax in axs:\n",
    "        ax.yaxis.set_ticks_position('left')\n",
    "        ax.xaxis.set_ticks_position('bottom')\n",
    "        ax.spines['bottom'].set_position(('outward', 10))\n",
    "        ax.spines['left'].set_position(('outward', 10))"
   ]
  }
 ],
 "metadata": {
  "kernelspec": {
   "display_name": "Python 3",
   "language": "python",
   "name": "python3"
  },
  "language_info": {
   "codemirror_mode": {
    "name": "ipython",
    "version": 3
   },
   "file_extension": ".py",
   "mimetype": "text/x-python",
   "name": "python",
   "nbconvert_exporter": "python",
   "pygments_lexer": "ipython3",
   "version": "3.5.2"
  }
 },
 "nbformat": 4,
 "nbformat_minor": 0
}
